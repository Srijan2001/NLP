{
  "nbformat": 4,
  "nbformat_minor": 0,
  "metadata": {
    "colab": {
      "name": "NLP.ipynb",
      "provenance": [],
      "collapsed_sections": [],
      "authorship_tag": "ABX9TyOOmby1AnOFLHr1dzQk7z1B",
      "include_colab_link": true
    },
    "kernelspec": {
      "name": "python3",
      "display_name": "Python 3"
    },
    "language_info": {
      "name": "python"
    }
  },
  "cells": [
    {
      "cell_type": "markdown",
      "metadata": {
        "id": "view-in-github",
        "colab_type": "text"
      },
      "source": [
        "<a href=\"https://colab.research.google.com/github/Srijan2001/NLP/blob/main/NLP.ipynb\" target=\"_parent\"><img src=\"https://colab.research.google.com/assets/colab-badge.svg\" alt=\"Open In Colab\"/></a>"
      ]
    },
    {
      "cell_type": "code",
      "metadata": {
        "id": "d9lXJU2Q2ySH"
      },
      "source": [
        "import pandas as pd\n",
        "import numpy as np\n",
        "from sklearn.cluster import MiniBatchKMeans \n",
        "from sklearn.feature_extraction.text import TfidfVectorizer\n",
        "from sklearn.decomposition import PCA\n",
        "from sklearn.preprocessing import normalize\n",
        "from sklearn.metrics import pairwise_distances\n",
        "\n",
        "import nltk\n",
        "import string\n",
        "\n",
        "import matplotlib.pyplot as plt\n",
        "%matplotlib inline\n"
      ],
      "execution_count": null,
      "outputs": []
    },
    {
      "cell_type": "code",
      "metadata": {
        "id": "vpg-BgZ23U_m"
      },
      "source": [
        "rtest = pd.read_csv('/content/sample_data/restauranttest.bio', names=['Label-words'])          \n",
        "rtrain = pd.read_csv('/content/sample_data/restauranttrain.bio', names=['Label-words'])"
      ],
      "execution_count": null,
      "outputs": []
    },
    {
      "cell_type": "code",
      "metadata": {
        "colab": {
          "base_uri": "https://localhost:8080/"
        },
        "id": "-Yx_N7djNxiC",
        "outputId": "db600ef0-4341-4700-8c1b-494b948970ea"
      },
      "source": [
        "#Original restaurant dataset\n",
        "\n",
        "print(rtrain)\n",
        "print(rtest)\n",
        "\n"
      ],
      "execution_count": null,
      "outputs": [
        {
          "output_type": "stream",
          "name": "stdout",
          "text": [
            "             Label-words\n",
            "0            B-Rating\\t2\n",
            "1        I-Rating\\tstart\n",
            "2         O\\trestaurants\n",
            "3                O\\twith\n",
            "4      B-Amenity\\tinside\n",
            "...                  ...\n",
            "70518             O\\tyou\n",
            "70519            O\\tlook\n",
            "70520             O\\tfor\n",
            "70521               O\\ta\n",
            "70522      O\\trestaurant\n",
            "\n",
            "[70523 rows x 1 columns]\n",
            "            Label-words\n",
            "0                  O\\ta\n",
            "1        B-Rating\\tfour\n",
            "2        I-Rating\\tstar\n",
            "3         O\\trestaurant\n",
            "4      B-Location\\twith\n",
            "...                 ...\n",
            "14251             O\\tme\n",
            "14252           O\\twith\n",
            "14253           O\\tsome\n",
            "14254     B-Dish\\tonion\n",
            "14255     I-Dish\\trings\n",
            "\n",
            "[14256 rows x 1 columns]\n"
          ]
        }
      ]
    },
    {
      "cell_type": "code",
      "metadata": {
        "id": "c-IIRMPGAFcy"
      },
      "source": [
        "# Adding two new columns to the existing dataframe and dropping the original column to make data easier to read\n",
        "def modify(df):\n",
        "\n",
        "  df[['Label', 'Words']] = df['Label-words'].apply(lambda x: pd.Series(str(x).split(\"\\t\")))\n",
        "  df.drop('Label-words', axis=1, inplace=True)   \n",
        "  return df\n"
      ],
      "execution_count": null,
      "outputs": []
    },
    {
      "cell_type": "code",
      "metadata": {
        "id": "g_f-dAHlv_BP"
      },
      "source": [
        "rtrain = modify(rtrain)\n",
        "rtest = modify(rtest)"
      ],
      "execution_count": null,
      "outputs": []
    },
    {
      "cell_type": "code",
      "metadata": {
        "colab": {
          "base_uri": "https://localhost:8080/",
          "height": 417
        },
        "id": "Yjy4KFlRwDxi",
        "outputId": "7f9dcd07-544a-4f9d-83d5-811a687c98b1"
      },
      "source": [
        "rtrain"
      ],
      "execution_count": null,
      "outputs": [
        {
          "output_type": "execute_result",
          "data": {
            "text/html": [
              "<div>\n",
              "<style scoped>\n",
              "    .dataframe tbody tr th:only-of-type {\n",
              "        vertical-align: middle;\n",
              "    }\n",
              "\n",
              "    .dataframe tbody tr th {\n",
              "        vertical-align: top;\n",
              "    }\n",
              "\n",
              "    .dataframe thead th {\n",
              "        text-align: right;\n",
              "    }\n",
              "</style>\n",
              "<table border=\"1\" class=\"dataframe\">\n",
              "  <thead>\n",
              "    <tr style=\"text-align: right;\">\n",
              "      <th></th>\n",
              "      <th>Label</th>\n",
              "      <th>Words</th>\n",
              "    </tr>\n",
              "  </thead>\n",
              "  <tbody>\n",
              "    <tr>\n",
              "      <th>0</th>\n",
              "      <td>B-Rating</td>\n",
              "      <td>2</td>\n",
              "    </tr>\n",
              "    <tr>\n",
              "      <th>1</th>\n",
              "      <td>I-Rating</td>\n",
              "      <td>start</td>\n",
              "    </tr>\n",
              "    <tr>\n",
              "      <th>2</th>\n",
              "      <td>O</td>\n",
              "      <td>restaurants</td>\n",
              "    </tr>\n",
              "    <tr>\n",
              "      <th>3</th>\n",
              "      <td>O</td>\n",
              "      <td>with</td>\n",
              "    </tr>\n",
              "    <tr>\n",
              "      <th>4</th>\n",
              "      <td>B-Amenity</td>\n",
              "      <td>inside</td>\n",
              "    </tr>\n",
              "    <tr>\n",
              "      <th>...</th>\n",
              "      <td>...</td>\n",
              "      <td>...</td>\n",
              "    </tr>\n",
              "    <tr>\n",
              "      <th>70518</th>\n",
              "      <td>O</td>\n",
              "      <td>you</td>\n",
              "    </tr>\n",
              "    <tr>\n",
              "      <th>70519</th>\n",
              "      <td>O</td>\n",
              "      <td>look</td>\n",
              "    </tr>\n",
              "    <tr>\n",
              "      <th>70520</th>\n",
              "      <td>O</td>\n",
              "      <td>for</td>\n",
              "    </tr>\n",
              "    <tr>\n",
              "      <th>70521</th>\n",
              "      <td>O</td>\n",
              "      <td>a</td>\n",
              "    </tr>\n",
              "    <tr>\n",
              "      <th>70522</th>\n",
              "      <td>O</td>\n",
              "      <td>restaurant</td>\n",
              "    </tr>\n",
              "  </tbody>\n",
              "</table>\n",
              "<p>70523 rows × 2 columns</p>\n",
              "</div>"
            ],
            "text/plain": [
              "           Label        Words\n",
              "0       B-Rating            2\n",
              "1       I-Rating        start\n",
              "2              O  restaurants\n",
              "3              O         with\n",
              "4      B-Amenity       inside\n",
              "...          ...          ...\n",
              "70518          O          you\n",
              "70519          O         look\n",
              "70520          O          for\n",
              "70521          O            a\n",
              "70522          O   restaurant\n",
              "\n",
              "[70523 rows x 2 columns]"
            ]
          },
          "metadata": {},
          "execution_count": 7
        }
      ]
    },
    {
      "cell_type": "code",
      "metadata": {
        "colab": {
          "base_uri": "https://localhost:8080/",
          "height": 417
        },
        "id": "avgq905BQ1TX",
        "outputId": "1027dc00-e25c-4187-9593-f4aebd542c76"
      },
      "source": [
        "rtest"
      ],
      "execution_count": null,
      "outputs": [
        {
          "output_type": "execute_result",
          "data": {
            "text/html": [
              "<div>\n",
              "<style scoped>\n",
              "    .dataframe tbody tr th:only-of-type {\n",
              "        vertical-align: middle;\n",
              "    }\n",
              "\n",
              "    .dataframe tbody tr th {\n",
              "        vertical-align: top;\n",
              "    }\n",
              "\n",
              "    .dataframe thead th {\n",
              "        text-align: right;\n",
              "    }\n",
              "</style>\n",
              "<table border=\"1\" class=\"dataframe\">\n",
              "  <thead>\n",
              "    <tr style=\"text-align: right;\">\n",
              "      <th></th>\n",
              "      <th>Label</th>\n",
              "      <th>Words</th>\n",
              "    </tr>\n",
              "  </thead>\n",
              "  <tbody>\n",
              "    <tr>\n",
              "      <th>0</th>\n",
              "      <td>O</td>\n",
              "      <td>a</td>\n",
              "    </tr>\n",
              "    <tr>\n",
              "      <th>1</th>\n",
              "      <td>B-Rating</td>\n",
              "      <td>four</td>\n",
              "    </tr>\n",
              "    <tr>\n",
              "      <th>2</th>\n",
              "      <td>I-Rating</td>\n",
              "      <td>star</td>\n",
              "    </tr>\n",
              "    <tr>\n",
              "      <th>3</th>\n",
              "      <td>O</td>\n",
              "      <td>restaurant</td>\n",
              "    </tr>\n",
              "    <tr>\n",
              "      <th>4</th>\n",
              "      <td>B-Location</td>\n",
              "      <td>with</td>\n",
              "    </tr>\n",
              "    <tr>\n",
              "      <th>...</th>\n",
              "      <td>...</td>\n",
              "      <td>...</td>\n",
              "    </tr>\n",
              "    <tr>\n",
              "      <th>14251</th>\n",
              "      <td>O</td>\n",
              "      <td>me</td>\n",
              "    </tr>\n",
              "    <tr>\n",
              "      <th>14252</th>\n",
              "      <td>O</td>\n",
              "      <td>with</td>\n",
              "    </tr>\n",
              "    <tr>\n",
              "      <th>14253</th>\n",
              "      <td>O</td>\n",
              "      <td>some</td>\n",
              "    </tr>\n",
              "    <tr>\n",
              "      <th>14254</th>\n",
              "      <td>B-Dish</td>\n",
              "      <td>onion</td>\n",
              "    </tr>\n",
              "    <tr>\n",
              "      <th>14255</th>\n",
              "      <td>I-Dish</td>\n",
              "      <td>rings</td>\n",
              "    </tr>\n",
              "  </tbody>\n",
              "</table>\n",
              "<p>14256 rows × 2 columns</p>\n",
              "</div>"
            ],
            "text/plain": [
              "            Label       Words\n",
              "0               O           a\n",
              "1        B-Rating        four\n",
              "2        I-Rating        star\n",
              "3               O  restaurant\n",
              "4      B-Location        with\n",
              "...           ...         ...\n",
              "14251           O          me\n",
              "14252           O        with\n",
              "14253           O        some\n",
              "14254      B-Dish       onion\n",
              "14255      I-Dish       rings\n",
              "\n",
              "[14256 rows x 2 columns]"
            ]
          },
          "metadata": {},
          "execution_count": 8
        }
      ]
    },
    {
      "cell_type": "code",
      "metadata": {
        "id": "hZ704KdKRbPU"
      },
      "source": [
        "#Function for displaying the number of words associated with each label and the number of labels\n",
        "\n",
        "def calculate(df):\n",
        "\n",
        "  arr = {df['Label'].iloc[0]: 0}\n",
        "  temp = ''\n",
        "\n",
        "  for i in range(df.shape[0]):\n",
        "    flg = 0\n",
        "    temp = df['Label'].iloc[i]\n",
        "\n",
        "    for key in arr:\n",
        "      if key == df['Label'].iloc[i]:      \n",
        "        arr[key] = arr[key] + 1           #Counts the number of words associated with each label\n",
        "        flg = 1\n",
        "        break\n",
        "  \n",
        "    if flg==0:                            #If the label hasn't been encountered before then add it to the dictionary and increment counter\n",
        "      arr[temp] = 0\n",
        "  \n",
        "  print(arr)\n",
        "  print('The number of distinct labels are ' + str(len(arr)))         #Number of distinct labels can be found by finding the length of the dict\n",
        "\n"
      ],
      "execution_count": null,
      "outputs": []
    },
    {
      "cell_type": "code",
      "metadata": {
        "colab": {
          "base_uri": "https://localhost:8080/"
        },
        "id": "aV7s7kOid2V_",
        "outputId": "107ccf0c-313d-4e0f-9046-c13fc31bf680"
      },
      "source": [
        "calculate(rtrain)                 #Stats for restaurant training dataset"
      ],
      "execution_count": null,
      "outputs": [
        {
          "output_type": "stream",
          "name": "stdout",
          "text": [
            "{'B-Rating': 1070, 'I-Rating': 526, 'O': 43667, 'B-Amenity': 2540, 'I-Amenity': 2675, 'B-Location': 3816, 'I-Location': 3657, 'B-Restaurant_Name': 1900, 'I-Restaurant_Name': 1667, 'B-Price': 729, 'B-Hours': 989, 'I-Hours': 1282, 'B-Dish': 1474, 'I-Dish': 766, 'B-Cuisine': 2838, 'I-Price': 282, 'I-Cuisine': 629}\n",
            "The number of distinct labels are 17\n"
          ]
        }
      ]
    },
    {
      "cell_type": "code",
      "metadata": {
        "colab": {
          "base_uri": "https://localhost:8080/"
        },
        "id": "2vAjdYo6waq7",
        "outputId": "abd8e03a-99c5-4687-839f-e661c86a1ff4"
      },
      "source": [
        "calculate(rtest)                 #Stats for restaurant testing dataset"
      ],
      "execution_count": null,
      "outputs": [
        {
          "output_type": "stream",
          "name": "stdout",
          "text": [
            "{'O': 8659, 'B-Rating': 200, 'I-Rating': 124, 'B-Location': 811, 'I-Location': 787, 'B-Amenity': 532, 'B-Cuisine': 531, 'B-Hours': 211, 'I-Hours': 294, 'B-Price': 170, 'I-Cuisine': 134, 'B-Dish': 287, 'I-Amenity': 523, 'I-Price': 65, 'B-Restaurant_Name': 401, 'I-Restaurant_Name': 391, 'I-Dish': 120}\n",
            "The number of distinct labels are 17\n"
          ]
        }
      ]
    },
    {
      "cell_type": "code",
      "metadata": {
        "id": "ZHWmlpmGe6z-"
      },
      "source": [
        "def make_file(biopath, csvpath):                         #Function that reads the files and saves sentences in csv format\n",
        "  \n",
        "  my_file_handle=open(biopath)\n",
        "  df = pd.DataFrame(columns = ['Sentences'])\n",
        "  word = ' '\n",
        "\n",
        "  for line in my_file_handle:\n",
        "    fld = line.split()\n",
        "\n",
        "    if fld != []:\n",
        "      word = word + \" \" + fld[1]\n",
        "    \n",
        "    else:\n",
        "        df = df.append({'Sentences' : word}, ignore_index = True)\n",
        "        word = ' '\n",
        "\n",
        "  df = df.append({'Sentences' : word}, ignore_index = True)\n",
        "  df.to_csv(csvpath)\n",
        "   "
      ],
      "execution_count": null,
      "outputs": []
    },
    {
      "cell_type": "code",
      "metadata": {
        "id": "lI_fvFOq9TGf"
      },
      "source": [
        "make_file('/content/sample_data/restauranttrain.bio', '/content/sample_data/restauranttrain.csv')\n",
        "make_file('/content/sample_data/restauranttest.bio', '/content/sample_data/restauranttrain.csv')"
      ],
      "execution_count": null,
      "outputs": []
    },
    {
      "cell_type": "code",
      "metadata": {
        "id": "nRMsfKSinAeo"
      },
      "source": [
        "def display(path):                                                          #Function to display the sentence csv files\n",
        "  df = pd.read_csv(path)\n",
        "  df.drop('Unnamed: 0', axis=1, inplace=True)\n",
        "  print(df)                                                                       \n"
      ],
      "execution_count": null,
      "outputs": []
    },
    {
      "cell_type": "code",
      "metadata": {
        "colab": {
          "base_uri": "https://localhost:8080/"
        },
        "id": "JFGYmQfCng_f",
        "outputId": "bec6ee25-1b08-407e-e149-310c620733e4"
      },
      "source": [
        "display('/content/sample_data/restauranttrain.csv')"
      ],
      "execution_count": null,
      "outputs": [
        {
          "output_type": "stream",
          "name": "stdout",
          "text": [
            "                                              Sentences\n",
            "0                2 start restaurants with inside dining\n",
            "1                          5 star resturants in my town\n",
            "2                hong kong restaurant reasonable prices\n",
            "3       a great lunch spot but open till 2 a m passi...\n",
            "4              a place that serves soft serve ice cream\n",
            "...                                                 ...\n",
            "7654    yes please locate the nearest seafood restau...\n",
            "7655    yes we are looking for a formal restaurant t...\n",
            "7656    yes we need a to stop at five guys for a nic...\n",
            "7657    yes we need to find a cheap deli with good h...\n",
            "7658              yes you can you look for a restaurant\n",
            "\n",
            "[7659 rows x 1 columns]\n"
          ]
        }
      ]
    },
    {
      "cell_type": "code",
      "metadata": {
        "colab": {
          "base_uri": "https://localhost:8080/"
        },
        "id": "3l0omBBknnYs",
        "outputId": "1437aa51-f864-4228-c3d9-f1329e8eb07d"
      },
      "source": [
        "display('/content/sample_data/restauranttest.csv')"
      ],
      "execution_count": null,
      "outputs": [
        {
          "output_type": "stream",
          "name": "stdout",
          "text": [
            "                                              Sentences\n",
            "0                     a four star restaurant with a bar\n",
            "1                              any asian cuisine around\n",
            "2                   any bbq places open before 5 nearby\n",
            "3       any dancing establishments with reasonable p...\n",
            "4              any good cheap german restaurants nearby\n",
            "...                                                 ...\n",
            "1516    will waffle house accept a prepaid visa gift...\n",
            "1517    yes please get me mcdonalds phone number in ...\n",
            "1518           yes the new diner on south street please\n",
            "1519    yes we need some chicken for our new diet so...\n",
            "1520              you can help me with some onion rings\n",
            "\n",
            "[1521 rows x 1 columns]\n"
          ]
        }
      ]
    },
    {
      "cell_type": "code",
      "metadata": {
        "id": "2Aizc_ji29hd"
      },
      "source": [
        "def k_means(path, num, labelval):\n",
        "  df = pd.read_csv(path)\n",
        "  df.drop('Unnamed: 0', axis=1, inplace=True) \n",
        "\n",
        "  vec = TfidfVectorizer(stop_words=\"english\")\n",
        "  vec.fit(df.Sentences.values)\n",
        "  features = vec.transform(df.Sentences.values)\n",
        "  cls = MiniBatchKMeans(n_clusters=num, random_state=0)                          \n",
        "  cls.fit(features)                                                               \n",
        "\n",
        "  arr = []\n",
        "\n",
        "  for i in range(len(cls.labels_)):                                               \n",
        "    if cls.labels_[i] == labelval:\n",
        "      arr.append(i)\n",
        "\n",
        "\n",
        "  for j in range(len(arr)):                                   #Displaying sentences that have the same label = labelval as passed in parameter\n",
        "    print(df.loc[arr[j]].at['Sentences'])\n",
        "    print(arr[j])                                                 \n",
        "                                                              \n"
      ],
      "execution_count": null,
      "outputs": []
    },
    {
      "cell_type": "code",
      "metadata": {
        "colab": {
          "base_uri": "https://localhost:8080/"
        },
        "id": "zHFzUeoSwszH",
        "outputId": "c4ebb28e-aa0e-421a-ca1f-5f2e1a729784"
      },
      "source": [
        "k_means('/content/sample_data/restauranttrain.csv', 210, 63)       #Sentences having label = 63 are all talking about nearest fast food places"
      ],
      "execution_count": null,
      "outputs": [
        {
          "output_type": "stream",
          "name": "stdout",
          "text": [
            "  can you locate the nearest fast food restaurant\n",
            "870\n",
            "  can you tell me where the nearest fast food restaurant is\n",
            "953\n",
            "  find the nearest fast food joint\n",
            "2155\n",
            "  how far is the nearest fast food restaurant\n",
            "2487\n",
            "  please give me the nearest fast food joint to me\n",
            "5056\n",
            "  where is the nearest fast food hamburger restaurant\n",
            "7211\n",
            "  where is the nearest fast food restaurant\n",
            "7213\n",
            "  wheres the nearest fast food\n",
            "7434\n"
          ]
        }
      ]
    },
    {
      "cell_type": "code",
      "metadata": {
        "colab": {
          "base_uri": "https://localhost:8080/"
        },
        "id": "9objueUalesj",
        "outputId": "e19ad5d3-3626-4c18-c10a-ec78430199c8"
      },
      "source": [
        "k_means('/content/sample_data/restauranttest.csv', 120, 43 )  #Sentences having label = 43 are all talking about places with a smoking section"
      ],
      "execution_count": null,
      "outputs": [
        {
          "output_type": "stream",
          "name": "stdout",
          "text": [
            "  are there any restaurants around with a smoking area\n",
            "72\n",
            "  can you find a burger joint with a smoking section\n",
            "133\n",
            "  can you find me chinese restaurant with a smoking section\n",
            "167\n",
            "  can you locate a diner that has a smoking section in this area\n",
            "191\n",
            "  does caribe have a smoking area\n",
            "279\n",
            "  does mikes cafe have a smoking section\n",
            "291\n",
            "  does the chinese buffet on 6 th avenue have a smoking section\n",
            "311\n",
            "  i need a place for smoking\n",
            "582\n",
            "  i want to find a restaurant with an outdoor dining section that permits smoking\n",
            "662\n",
            "  is there a smoking section at olive garden\n",
            "872\n",
            "  please find a mexican restaurant with a smoking section and more then 1 star review\n",
            "1018\n",
            "  please help me locate a restaurant that allows smoking\n",
            "1031\n",
            "  red lobster with no smoking\n",
            "1043\n",
            "  show me all of the local restaurants with a smoking area\n",
            "1055\n",
            "  what kosher restaurants still have smoking sections\n",
            "1161\n",
            "  where is the closest non smoking restaurant\n",
            "1415\n",
            "  which restaurant has a smoking section\n",
            "1491\n"
          ]
        }
      ]
    },
    {
      "cell_type": "code",
      "metadata": {
        "colab": {
          "base_uri": "https://localhost:8080/"
        },
        "id": "uOOQUkcTwKp-",
        "outputId": "62ea719f-bd91-4bac-c557-e4a0b1eea2e7"
      },
      "source": [
        "pip install -U sentence-transformers"
      ],
      "execution_count": null,
      "outputs": [
        {
          "output_type": "stream",
          "name": "stdout",
          "text": [
            "Collecting sentence-transformers\n",
            "  Downloading sentence-transformers-2.1.0.tar.gz (78 kB)\n",
            "\u001b[K     |████████████████████████████████| 78 kB 3.4 MB/s \n",
            "\u001b[?25hCollecting transformers<5.0.0,>=4.6.0\n",
            "  Downloading transformers-4.11.3-py3-none-any.whl (2.9 MB)\n",
            "\u001b[K     |████████████████████████████████| 2.9 MB 18.2 MB/s \n",
            "\u001b[?25hCollecting tokenizers>=0.10.3\n",
            "  Downloading tokenizers-0.10.3-cp37-cp37m-manylinux_2_5_x86_64.manylinux1_x86_64.manylinux_2_12_x86_64.manylinux2010_x86_64.whl (3.3 MB)\n",
            "\u001b[K     |████████████████████████████████| 3.3 MB 40.2 MB/s \n",
            "\u001b[?25hRequirement already satisfied: tqdm in /usr/local/lib/python3.7/dist-packages (from sentence-transformers) (4.62.3)\n",
            "Requirement already satisfied: torch>=1.6.0 in /usr/local/lib/python3.7/dist-packages (from sentence-transformers) (1.9.0+cu111)\n",
            "Requirement already satisfied: torchvision in /usr/local/lib/python3.7/dist-packages (from sentence-transformers) (0.10.0+cu111)\n",
            "Requirement already satisfied: numpy in /usr/local/lib/python3.7/dist-packages (from sentence-transformers) (1.19.5)\n",
            "Requirement already satisfied: scikit-learn in /usr/local/lib/python3.7/dist-packages (from sentence-transformers) (0.22.2.post1)\n",
            "Requirement already satisfied: scipy in /usr/local/lib/python3.7/dist-packages (from sentence-transformers) (1.4.1)\n",
            "Requirement already satisfied: nltk in /usr/local/lib/python3.7/dist-packages (from sentence-transformers) (3.2.5)\n",
            "Collecting sentencepiece\n",
            "  Downloading sentencepiece-0.1.96-cp37-cp37m-manylinux_2_17_x86_64.manylinux2014_x86_64.whl (1.2 MB)\n",
            "\u001b[K     |████████████████████████████████| 1.2 MB 50.8 MB/s \n",
            "\u001b[?25hCollecting huggingface-hub\n",
            "  Downloading huggingface_hub-0.0.19-py3-none-any.whl (56 kB)\n",
            "\u001b[K     |████████████████████████████████| 56 kB 4.6 MB/s \n",
            "\u001b[?25hRequirement already satisfied: typing-extensions in /usr/local/lib/python3.7/dist-packages (from torch>=1.6.0->sentence-transformers) (3.7.4.3)\n",
            "Collecting pyyaml>=5.1\n",
            "  Downloading PyYAML-6.0-cp37-cp37m-manylinux_2_5_x86_64.manylinux1_x86_64.manylinux_2_12_x86_64.manylinux2010_x86_64.whl (596 kB)\n",
            "\u001b[K     |████████████████████████████████| 596 kB 49.0 MB/s \n",
            "\u001b[?25hRequirement already satisfied: filelock in /usr/local/lib/python3.7/dist-packages (from transformers<5.0.0,>=4.6.0->sentence-transformers) (3.3.0)\n",
            "Requirement already satisfied: packaging>=20.0 in /usr/local/lib/python3.7/dist-packages (from transformers<5.0.0,>=4.6.0->sentence-transformers) (21.0)\n",
            "Requirement already satisfied: requests in /usr/local/lib/python3.7/dist-packages (from transformers<5.0.0,>=4.6.0->sentence-transformers) (2.23.0)\n",
            "Requirement already satisfied: regex!=2019.12.17 in /usr/local/lib/python3.7/dist-packages (from transformers<5.0.0,>=4.6.0->sentence-transformers) (2019.12.20)\n",
            "Requirement already satisfied: importlib-metadata in /usr/local/lib/python3.7/dist-packages (from transformers<5.0.0,>=4.6.0->sentence-transformers) (4.8.1)\n",
            "Collecting sacremoses\n",
            "  Downloading sacremoses-0.0.46-py3-none-any.whl (895 kB)\n",
            "\u001b[K     |████████████████████████████████| 895 kB 63.2 MB/s \n",
            "\u001b[?25hRequirement already satisfied: pyparsing>=2.0.2 in /usr/local/lib/python3.7/dist-packages (from packaging>=20.0->transformers<5.0.0,>=4.6.0->sentence-transformers) (2.4.7)\n",
            "Requirement already satisfied: zipp>=0.5 in /usr/local/lib/python3.7/dist-packages (from importlib-metadata->transformers<5.0.0,>=4.6.0->sentence-transformers) (3.6.0)\n",
            "Requirement already satisfied: six in /usr/local/lib/python3.7/dist-packages (from nltk->sentence-transformers) (1.15.0)\n",
            "Requirement already satisfied: chardet<4,>=3.0.2 in /usr/local/lib/python3.7/dist-packages (from requests->transformers<5.0.0,>=4.6.0->sentence-transformers) (3.0.4)\n",
            "Requirement already satisfied: certifi>=2017.4.17 in /usr/local/lib/python3.7/dist-packages (from requests->transformers<5.0.0,>=4.6.0->sentence-transformers) (2021.5.30)\n",
            "Requirement already satisfied: urllib3!=1.25.0,!=1.25.1,<1.26,>=1.21.1 in /usr/local/lib/python3.7/dist-packages (from requests->transformers<5.0.0,>=4.6.0->sentence-transformers) (1.24.3)\n",
            "Requirement already satisfied: idna<3,>=2.5 in /usr/local/lib/python3.7/dist-packages (from requests->transformers<5.0.0,>=4.6.0->sentence-transformers) (2.10)\n",
            "Requirement already satisfied: click in /usr/local/lib/python3.7/dist-packages (from sacremoses->transformers<5.0.0,>=4.6.0->sentence-transformers) (7.1.2)\n",
            "Requirement already satisfied: joblib in /usr/local/lib/python3.7/dist-packages (from sacremoses->transformers<5.0.0,>=4.6.0->sentence-transformers) (1.0.1)\n",
            "Requirement already satisfied: pillow>=5.3.0 in /usr/local/lib/python3.7/dist-packages (from torchvision->sentence-transformers) (7.1.2)\n",
            "Building wheels for collected packages: sentence-transformers\n",
            "  Building wheel for sentence-transformers (setup.py) ... \u001b[?25l\u001b[?25hdone\n",
            "  Created wheel for sentence-transformers: filename=sentence_transformers-2.1.0-py3-none-any.whl size=121000 sha256=4cbbef98abac937109baa5080db61af2e195b2efa90517c7d9b3fc3c86ca11df\n",
            "  Stored in directory: /root/.cache/pip/wheels/90/f0/bb/ed1add84da70092ea526466eadc2bfb197c4bcb8d4fa5f7bad\n",
            "Successfully built sentence-transformers\n",
            "Installing collected packages: pyyaml, tokenizers, sacremoses, huggingface-hub, transformers, sentencepiece, sentence-transformers\n",
            "  Attempting uninstall: pyyaml\n",
            "    Found existing installation: PyYAML 3.13\n",
            "    Uninstalling PyYAML-3.13:\n",
            "      Successfully uninstalled PyYAML-3.13\n",
            "Successfully installed huggingface-hub-0.0.19 pyyaml-6.0 sacremoses-0.0.46 sentence-transformers-2.1.0 sentencepiece-0.1.96 tokenizers-0.10.3 transformers-4.11.3\n"
          ]
        }
      ]
    },
    {
      "cell_type": "code",
      "metadata": {
        "id": "cBqleVpCJI99"
      },
      "source": [
        "def convertlist(path):                                            #Function that helps in preparing the list\n",
        "  df = pd.read_csv(path)\n",
        "  sentences = []\n",
        "\n",
        "  for i in range(df.shape[0]):\n",
        "    sentences.append(df.loc[i].at['Sentences'])\n",
        "\n",
        "  return sentences\n"
      ],
      "execution_count": null,
      "outputs": []
    },
    {
      "cell_type": "code",
      "metadata": {
        "id": "rTcEQhzbVrI0"
      },
      "source": [
        "from sentence_transformers import SentenceTransformer"
      ],
      "execution_count": null,
      "outputs": []
    },
    {
      "cell_type": "code",
      "metadata": {
        "id": "q_8rMY-uU4LR"
      },
      "source": [
        "def transformer_clustering(path, num, labelval):                  #Function that performs sentence transformer based clustering\n",
        "  model = SentenceTransformer('all-MiniLM-L6-v2')\n",
        "  df = pd.read_csv(path)\n",
        "  #Our sentences we like to encode\n",
        "  sentences = convertlist(path)\n",
        "  sentence_embeddings = model.encode(sentences)\n",
        "  cls = MiniBatchKMeans(n_clusters=num, random_state=0)                          \n",
        "  cls.fit(sentence_embeddings)                                                               \n",
        "\n",
        "  arr = []\n",
        "\n",
        "  for i in range(len(cls.labels_)):                                               \n",
        "    if cls.labels_[i] == labelval:\n",
        "      arr.append(i)\n",
        "\n",
        "  for j in range(len(arr)):                                   #Displaying sentences that have the same label = labelval as passed in parameter\n",
        "    print(df.loc[arr[j]].at['Sentences'])\n",
        "    print(arr[j])                     \n"
      ],
      "execution_count": null,
      "outputs": []
    },
    {
      "cell_type": "code",
      "metadata": {
        "colab": {
          "base_uri": "https://localhost:8080/"
        },
        "id": "8dd2h5YMJKVP",
        "outputId": "18122973-6e60-432b-fcbe-76900cacd950"
      },
      "source": [
        "transformer_clustering('/content/sample_data/restauranttrain.csv', 210, 55)       #Sentences having label = 55 are all talking about pizza restaurants"
      ],
      "execution_count": null,
      "outputs": [
        {
          "output_type": "stream",
          "name": "stdout",
          "text": [
            "  about how much will it cost to eat at johns pizza cafe for dinner per person\n",
            "11\n",
            "  call the pizza hut closest to my house that offers delivery\n",
            "508\n",
            "  can i get to the ashland pizza palace in 5 minutes or less\n",
            "566\n",
            "  can i have the phone number for dominos pizza\n",
            "581\n",
            "  can you dine in the bar at cjs gourmet pizza\n",
            "608\n",
            "  can you direct me to the nearest needham house of pizza\n",
            "615\n",
            "  can you get me the number of the burrito place on 52nd street\n",
            "798\n",
            "  can you get the phone numbers of all pizza delivery places within 10 miles\n",
            "802\n",
            "  can you locate the phone number for the nearest bj pizza place\n",
            "872\n",
            "  can you show me the locations of pizza huts in new york city\n",
            "921\n",
            "  could you get me the phone number for a wonderful pizza place in the area that has thin and thick crusts\n",
            "1022\n",
            "  directions to pizza hut\n",
            "1067\n",
            "  do you know if any pizza store in the financial district delivers\n",
            "1167\n",
            "  does bridgeside house of pizza sell subs\n",
            "1299\n",
            "  does garden pizza have carry out before 9 am\n",
            "1337\n",
            "  does the pizzeria on cook offer takeout\n",
            "1499\n",
            "  does the ricks cafe an pizza in milton have a buffet\n",
            "1506\n",
            "  find the phone number for the closest pizza restaurant that does carry out\n",
            "2169\n",
            "  find the phone number of the closest pizza hut\n",
            "2170\n",
            "  find us a pizza hut\n",
            "2176\n",
            "  get me directions to papa gianos pizza parlor\n",
            "2206\n",
            "  get me the phone number for a nearby pizza place that delivers\n",
            "2211\n",
            "  get me the phone number for the nearest pizza hut\n",
            "2213\n",
            "  get the phone number of a pizza restaurant\n",
            "2230\n",
            "  give me directions to the closest pizza hut and order the usual for me\n",
            "2253\n",
            "  how far is pizza hut\n",
            "2471\n",
            "  i am looking for pizza hut\n",
            "2688\n",
            "  i need directions to pizza hut\n",
            "2904\n",
            "  i need info on pizza hut coupons\n",
            "2914\n",
            "  i want info on cicis pizzas nearby restaurant closing hours\n",
            "3153\n",
            "  i want to find a goos delivery pizza place\n",
            "3269\n",
            "  i want to know the rating of the new pizza place on main st\n",
            "3346\n",
            "  i would like the phone number for pizza hut on main street\n",
            "3411\n",
            "  is pizza hut open on sundays\n",
            "3895\n",
            "  is the pizza place around the corner open\n",
            "3953\n",
            "  is there a brighton house of pizza at government center\n",
            "3982\n",
            "  is there a foxboro houe of pizza in brookline\n",
            "4086\n",
            "  is there a pizza parlour with a jukebox near here\n",
            "4207\n",
            "  is there an extra charge for delivery with ginos pizza\n",
            "4430\n",
            "  pizza hut on columbia ave in holland mi\n",
            "4973\n",
            "  search local pizza hut\n",
            "5172\n",
            "  show me where pizza hut is\n",
            "5237\n",
            "  what are the hours of pizza hut\n",
            "5458\n",
            "  what is pizza hut phone number\n",
            "5581\n",
            "  what is pizza huts number\n",
            "5583\n",
            "  what is the delivery fee if i order from dominos pizza\n",
            "5638\n",
            "  what is the number for mikes pizza in hilldale\n",
            "5699\n",
            "  what is the phone number for pizza hut on market st in akron oh\n",
            "5715\n",
            "  what is the phone number of dominos pizza\n",
            "5721\n",
            "  what is the phone number of the pizza parlor on 17th and 9th\n",
            "5725\n",
            "  what is the phone number to a papa johns near here\n",
            "5726\n",
            "  what is the phone number to pizza hut on 8 th street\n",
            "5730\n",
            "  what time does pizza hut close\n",
            "5989\n",
            "  what time does the pizza hut in fayetteville nc close\n",
            "6018\n",
            "  what time does the pizza place near me open\n",
            "6019\n",
            "  whats the number to pizza hut\n",
            "6164\n",
            "  whats the phone number for dominos\n",
            "6166\n",
            "  whats the phone number for pizzeria paradiso\n",
            "6168\n",
            "  whats the phone number for the pizza place on main st\n",
            "6171\n",
            "  whats the phone number for zacherys pizza in oakland\n",
            "6172\n",
            "  whats the phone number of the pizza place i went to last week\n",
            "6174\n",
            "  whats the phone number to show biz pizza\n",
            "6176\n",
            "  when does pizza hut close\n",
            "6208\n",
            "  when does pizza hut open\n",
            "6209\n",
            "  where is dedham house of pizza located\n",
            "6956\n",
            "  where is highland pizza and sub\n",
            "6966\n",
            "  where is pizza hut\n",
            "6979\n",
            "  where is the nearest restaurnat that has carry out pizza i would like the phone number too\n",
            "7270\n"
          ]
        }
      ]
    },
    {
      "cell_type": "code",
      "metadata": {
        "id": "sYS55sXYJKwj",
        "colab": {
          "base_uri": "https://localhost:8080/"
        },
        "outputId": "8a73f9e4-385d-43d9-a905-55603fcc387b"
      },
      "source": [
        "transformer_clustering('/content/sample_data/restauranttest.csv', 120, 15)      #Sentences having label = 15 are all talking about Thai restaurants"
      ],
      "execution_count": null,
      "outputs": [
        {
          "output_type": "stream",
          "name": "stdout",
          "text": [
            "  are there any restaurant nearby that serve thai food\n",
            "71\n",
            "  can you find a thai japanese fusion restaurant in town\n",
            "146\n",
            "  can you find me a thai restaurant that is caual\n",
            "166\n",
            "  can you tell me where an affordable burmese place is\n",
            "207\n",
            "  find a thai cuisine within 2 miles\n",
            "349\n",
            "  find me a cheaply priced thai restaurant\n",
            "360\n",
            "  find me a thai restaurant with a great rating\n",
            "413\n",
            "  find thai food\n",
            "448\n",
            "  hi i would like some thai food is there any nearby\n",
            "490\n",
            "  how far am i from true thai right now\n",
            "508\n",
            "  i need a thai place nearby can you find one\n",
            "588\n",
            "  i want a pad thai place around here thats open all day\n",
            "624\n",
            "  id really like a thai restaurant that has carryout do you know of one\n",
            "714\n",
            "  im hungry for thai\n",
            "723\n",
            "  is there a thai restaurant with a great wine list\n",
            "879\n",
            "  is there an restaurant in this part of town that serves thai food\n",
            "898\n",
            "  navigate me to a thai restaurant thats 4 stars or higher\n",
            "1009\n",
            "  please find me the nearest thai place\n",
            "1025\n",
            "  thai\n",
            "1081\n",
            "  what is the highest rated thai restaurant in austin\n",
            "1135\n",
            "  whats the phone number for that family owned thai restaurant on the north side\n",
            "1242\n",
            "  where can i find a cambodian restaurant that also sells ingredients\n",
            "1267\n",
            "  where can i find a thai restaurant that is non smoking\n",
            "1290\n",
            "  where is the nearest thai restaurant that serves breakfast in alston\n",
            "1450\n"
          ]
        }
      ]
    },
    {
      "cell_type": "code",
      "metadata": {
        "id": "Js7gmc-gKcaP"
      },
      "source": [
        "etrain = pd.read_csv('/content/sample_data/engtrain.bio', names=['Label-words'])\n",
        "etest = pd.read_csv('/content/sample_data/engtest.bio', names=['Label-words'])"
      ],
      "execution_count": null,
      "outputs": []
    },
    {
      "cell_type": "code",
      "metadata": {
        "colab": {
          "base_uri": "https://localhost:8080/"
        },
        "id": "Xt4V_JnpJwQm",
        "outputId": "943eb868-778b-459e-f042-0e043db1e1a7"
      },
      "source": [
        "#Original movie dataset\n",
        "\n",
        "print(etrain)\n",
        "print(etest)"
      ],
      "execution_count": null,
      "outputs": [
        {
          "output_type": "stream",
          "name": "stdout",
          "text": [
            "                   Label-words\n",
            "0                      O\\twhat\n",
            "1                    O\\tmovies\n",
            "2                      O\\tstar\n",
            "3               B-ACTOR\\tbruce\n",
            "4              I-ACTOR\\twillis\n",
            "...                        ...\n",
            "52406                    O\\tim\n",
            "52407               O\\tlooking\n",
            "52408                   O\\tfor\n",
            "52409                     O\\ta\n",
            "52410  B-RATINGS_AVERAGE\\tvery\n",
            "\n",
            "[52411 rows x 1 columns]\n",
            "                Label-words\n",
            "0                    O\\tare\n",
            "1                  O\\tthere\n",
            "2                    O\\tany\n",
            "3                   O\\tgood\n",
            "4         B-GENRE\\tromantic\n",
            "...                     ...\n",
            "24681              O\\tmovie\n",
            "24682              O\\tabout\n",
            "24683  B-CHARACTER\\tcaptain\n",
            "24684     I-CHARACTER\\tjack\n",
            "24685  I-CHARACTER\\tsparrow\n",
            "\n",
            "[24686 rows x 1 columns]\n"
          ]
        }
      ]
    },
    {
      "cell_type": "code",
      "metadata": {
        "id": "JfTUEEakKK3b"
      },
      "source": [
        "etrain = modify(etrain)                         #Using modify funtion \n",
        "etest = modify(etest)"
      ],
      "execution_count": null,
      "outputs": []
    },
    {
      "cell_type": "code",
      "metadata": {
        "colab": {
          "base_uri": "https://localhost:8080/",
          "height": 417
        },
        "id": "m7H4ktBoRrpW",
        "outputId": "71813d4a-169c-4681-b577-718823e6f3de"
      },
      "source": [
        "etrain"
      ],
      "execution_count": null,
      "outputs": [
        {
          "output_type": "execute_result",
          "data": {
            "text/html": [
              "<div>\n",
              "<style scoped>\n",
              "    .dataframe tbody tr th:only-of-type {\n",
              "        vertical-align: middle;\n",
              "    }\n",
              "\n",
              "    .dataframe tbody tr th {\n",
              "        vertical-align: top;\n",
              "    }\n",
              "\n",
              "    .dataframe thead th {\n",
              "        text-align: right;\n",
              "    }\n",
              "</style>\n",
              "<table border=\"1\" class=\"dataframe\">\n",
              "  <thead>\n",
              "    <tr style=\"text-align: right;\">\n",
              "      <th></th>\n",
              "      <th>Label</th>\n",
              "      <th>Words</th>\n",
              "    </tr>\n",
              "  </thead>\n",
              "  <tbody>\n",
              "    <tr>\n",
              "      <th>0</th>\n",
              "      <td>O</td>\n",
              "      <td>what</td>\n",
              "    </tr>\n",
              "    <tr>\n",
              "      <th>1</th>\n",
              "      <td>O</td>\n",
              "      <td>movies</td>\n",
              "    </tr>\n",
              "    <tr>\n",
              "      <th>2</th>\n",
              "      <td>O</td>\n",
              "      <td>star</td>\n",
              "    </tr>\n",
              "    <tr>\n",
              "      <th>3</th>\n",
              "      <td>B-ACTOR</td>\n",
              "      <td>bruce</td>\n",
              "    </tr>\n",
              "    <tr>\n",
              "      <th>4</th>\n",
              "      <td>I-ACTOR</td>\n",
              "      <td>willis</td>\n",
              "    </tr>\n",
              "    <tr>\n",
              "      <th>...</th>\n",
              "      <td>...</td>\n",
              "      <td>...</td>\n",
              "    </tr>\n",
              "    <tr>\n",
              "      <th>52406</th>\n",
              "      <td>O</td>\n",
              "      <td>im</td>\n",
              "    </tr>\n",
              "    <tr>\n",
              "      <th>52407</th>\n",
              "      <td>O</td>\n",
              "      <td>looking</td>\n",
              "    </tr>\n",
              "    <tr>\n",
              "      <th>52408</th>\n",
              "      <td>O</td>\n",
              "      <td>for</td>\n",
              "    </tr>\n",
              "    <tr>\n",
              "      <th>52409</th>\n",
              "      <td>O</td>\n",
              "      <td>a</td>\n",
              "    </tr>\n",
              "    <tr>\n",
              "      <th>52410</th>\n",
              "      <td>B-RATINGS_AVERAGE</td>\n",
              "      <td>very</td>\n",
              "    </tr>\n",
              "  </tbody>\n",
              "</table>\n",
              "<p>52411 rows × 2 columns</p>\n",
              "</div>"
            ],
            "text/plain": [
              "                   Label    Words\n",
              "0                      O     what\n",
              "1                      O   movies\n",
              "2                      O     star\n",
              "3                B-ACTOR    bruce\n",
              "4                I-ACTOR   willis\n",
              "...                  ...      ...\n",
              "52406                  O       im\n",
              "52407                  O  looking\n",
              "52408                  O      for\n",
              "52409                  O        a\n",
              "52410  B-RATINGS_AVERAGE     very\n",
              "\n",
              "[52411 rows x 2 columns]"
            ]
          },
          "metadata": {},
          "execution_count": 22
        }
      ]
    },
    {
      "cell_type": "code",
      "metadata": {
        "colab": {
          "base_uri": "https://localhost:8080/",
          "height": 417
        },
        "id": "rLSogkjKRsU-",
        "outputId": "0c2a539c-5d3a-4565-8364-4352fdfdd62d"
      },
      "source": [
        "etest"
      ],
      "execution_count": null,
      "outputs": [
        {
          "output_type": "execute_result",
          "data": {
            "text/html": [
              "<div>\n",
              "<style scoped>\n",
              "    .dataframe tbody tr th:only-of-type {\n",
              "        vertical-align: middle;\n",
              "    }\n",
              "\n",
              "    .dataframe tbody tr th {\n",
              "        vertical-align: top;\n",
              "    }\n",
              "\n",
              "    .dataframe thead th {\n",
              "        text-align: right;\n",
              "    }\n",
              "</style>\n",
              "<table border=\"1\" class=\"dataframe\">\n",
              "  <thead>\n",
              "    <tr style=\"text-align: right;\">\n",
              "      <th></th>\n",
              "      <th>Label</th>\n",
              "      <th>Words</th>\n",
              "    </tr>\n",
              "  </thead>\n",
              "  <tbody>\n",
              "    <tr>\n",
              "      <th>0</th>\n",
              "      <td>O</td>\n",
              "      <td>are</td>\n",
              "    </tr>\n",
              "    <tr>\n",
              "      <th>1</th>\n",
              "      <td>O</td>\n",
              "      <td>there</td>\n",
              "    </tr>\n",
              "    <tr>\n",
              "      <th>2</th>\n",
              "      <td>O</td>\n",
              "      <td>any</td>\n",
              "    </tr>\n",
              "    <tr>\n",
              "      <th>3</th>\n",
              "      <td>O</td>\n",
              "      <td>good</td>\n",
              "    </tr>\n",
              "    <tr>\n",
              "      <th>4</th>\n",
              "      <td>B-GENRE</td>\n",
              "      <td>romantic</td>\n",
              "    </tr>\n",
              "    <tr>\n",
              "      <th>...</th>\n",
              "      <td>...</td>\n",
              "      <td>...</td>\n",
              "    </tr>\n",
              "    <tr>\n",
              "      <th>24681</th>\n",
              "      <td>O</td>\n",
              "      <td>movie</td>\n",
              "    </tr>\n",
              "    <tr>\n",
              "      <th>24682</th>\n",
              "      <td>O</td>\n",
              "      <td>about</td>\n",
              "    </tr>\n",
              "    <tr>\n",
              "      <th>24683</th>\n",
              "      <td>B-CHARACTER</td>\n",
              "      <td>captain</td>\n",
              "    </tr>\n",
              "    <tr>\n",
              "      <th>24684</th>\n",
              "      <td>I-CHARACTER</td>\n",
              "      <td>jack</td>\n",
              "    </tr>\n",
              "    <tr>\n",
              "      <th>24685</th>\n",
              "      <td>I-CHARACTER</td>\n",
              "      <td>sparrow</td>\n",
              "    </tr>\n",
              "  </tbody>\n",
              "</table>\n",
              "<p>24686 rows × 2 columns</p>\n",
              "</div>"
            ],
            "text/plain": [
              "             Label     Words\n",
              "0                O       are\n",
              "1                O     there\n",
              "2                O       any\n",
              "3                O      good\n",
              "4          B-GENRE  romantic\n",
              "...            ...       ...\n",
              "24681            O     movie\n",
              "24682            O     about\n",
              "24683  B-CHARACTER   captain\n",
              "24684  I-CHARACTER      jack\n",
              "24685  I-CHARACTER   sparrow\n",
              "\n",
              "[24686 rows x 2 columns]"
            ]
          },
          "metadata": {},
          "execution_count": 23
        }
      ]
    },
    {
      "cell_type": "code",
      "metadata": {
        "colab": {
          "base_uri": "https://localhost:8080/"
        },
        "id": "ujXMvChZRuu6",
        "outputId": "033eda95-a3a9-438a-8cd7-60d4feb4abc7"
      },
      "source": [
        "calculate(etrain)           #Stats for movie training dataset"
      ],
      "execution_count": null,
      "outputs": [
        {
          "output_type": "stream",
          "name": "stdout",
          "text": [
            "{'O': 32700, 'B-ACTOR': 1980, 'I-ACTOR': 2126, 'B-YEAR': 1217, 'B-TITLE': 1438, 'B-GENRE': 1856, 'I-GENRE': 435, 'B-DIRECTOR': 801, 'I-DIRECTOR': 830, 'B-SONG': 224, 'I-SONG': 402, 'B-PLOT': 1088, 'I-PLOT': 1316, 'B-REVIEW': 189, 'B-CHARACTER': 340, 'I-CHARACTER': 294, 'B-RATING': 725, 'B-RATINGS_AVERAGE': 604, 'I-RATINGS_AVERAGE': 575, 'I-TITLE': 1946, 'I-RATING': 364, 'B-TRAILER': 84, 'I-TRAILER': 5, 'I-REVIEW': 122, 'I-YEAR': 726}\n",
            "The number of distinct labels are 25\n"
          ]
        }
      ]
    },
    {
      "cell_type": "code",
      "metadata": {
        "colab": {
          "base_uri": "https://localhost:8080/"
        },
        "id": "oVYbR8nkR07f",
        "outputId": "04919a09-75ab-4efa-94b0-31a2816372da"
      },
      "source": [
        "calculate(etest)            #Stats for movie testing dataset"
      ],
      "execution_count": null,
      "outputs": [
        {
          "output_type": "stream",
          "name": "stdout",
          "text": [
            "{'O': 14929, 'B-GENRE': 1116, 'I-GENRE': 221, 'B-YEAR': 719, 'I-YEAR': 609, 'B-PLOT': 490, 'I-PLOT': 495, 'B-RATINGS_AVERAGE': 450, 'I-RATINGS_AVERAGE': 402, 'B-ACTOR': 811, 'I-ACTOR': 861, 'B-TITLE': 561, 'I-TITLE': 855, 'B-SONG': 53, 'B-CHARACTER': 89, 'B-RATING': 499, 'I-RATING': 225, 'B-REVIEW': 55, 'B-DIRECTOR': 455, 'I-DIRECTOR': 495, 'I-REVIEW': 44, 'I-SONG': 118, 'I-CHARACTER': 74, 'B-TRAILER': 29, 'I-TRAILER': 7}\n",
            "The number of distinct labels are 25\n"
          ]
        }
      ]
    },
    {
      "cell_type": "code",
      "metadata": {
        "id": "JYl-lbwdR3eq"
      },
      "source": [
        "make_file('/content/sample_data/engtrain.bio', '/content/sample_data/engtrain.csv')         #Making the csv file and saving the words       \n",
        "make_file('/content/sample_data/engtest.bio', '/content/sample_data/engtest.csv')"
      ],
      "execution_count": null,
      "outputs": []
    },
    {
      "cell_type": "code",
      "metadata": {
        "colab": {
          "base_uri": "https://localhost:8080/"
        },
        "id": "0wNtS8LTdD-K",
        "outputId": "936c0ffe-3218-414a-b139-aea4e9f816e4"
      },
      "source": [
        "display('/content/sample_data/engtrain.csv')"
      ],
      "execution_count": null,
      "outputs": [
        {
          "output_type": "stream",
          "name": "stdout",
          "text": [
            "                                              Sentences\n",
            "0                         what movies star bruce willis\n",
            "1       show me films with drew barrymore from the 1...\n",
            "2       what movies starred both al pacino and rober...\n",
            "3       find me all of the movies that starred harol...\n",
            "4       find me a movie with a quote about baseball ...\n",
            "...                                                 ...\n",
            "5536    im looking for a short film directed by juli...\n",
            "5537    im looking for a specific unrated biography ...\n",
            "5538    im looking for a thriller movie from 1960 th...\n",
            "5539    im looking for a thriller that was directed ...\n",
            "5540                              im looking for a very\n",
            "\n",
            "[5541 rows x 1 columns]\n"
          ]
        }
      ]
    },
    {
      "cell_type": "code",
      "metadata": {
        "colab": {
          "base_uri": "https://localhost:8080/"
        },
        "id": "jWc79MoXn3YB",
        "outputId": "eecc4de2-0347-42ec-a5eb-4a0cf4a51508"
      },
      "source": [
        "display('/content/sample_data/engtest.csv')"
      ],
      "execution_count": null,
      "outputs": [
        {
          "output_type": "stream",
          "name": "stdout",
          "text": [
            "                                              Sentences\n",
            "0       are there any good romantic comedies out rig...\n",
            "1                  show me a movie about cars that talk\n",
            "2       list the five star rated movies starring mel...\n",
            "3       what science fiction films have come out rec...\n",
            "4       did the same director make all of the harry ...\n",
            "...                                                 ...\n",
            "2438                  play the trailer dark of the moon\n",
            "2439                      show me the good thief review\n",
            "2440                              any james bond movies\n",
            "2441    find me some adventure movies with indiana j...\n",
            "2442    what s the title of the movie about captain ...\n",
            "\n",
            "[2443 rows x 1 columns]\n"
          ]
        }
      ]
    },
    {
      "cell_type": "code",
      "metadata": {
        "colab": {
          "base_uri": "https://localhost:8080/"
        },
        "id": "01hr28bun_As",
        "outputId": "2aba30b6-27b0-41d3-f255-2e4c25c2fd96"
      },
      "source": [
        "k_means('/content/sample_data/engtrain.csv', 170, 34)       #Sentences having label = 34 are all talking about movies directed by Francis Ford Coppola"
      ],
      "execution_count": null,
      "outputs": [
        {
          "output_type": "stream",
          "name": "stdout",
          "text": [
            "  did francis ford coppola direct any comedies\n",
            "1150\n",
            "  what movies has francis ford coppola directed\n",
            "2098\n",
            "  are there any musicals directed by francis ford coppola\n",
            "3849\n",
            "  did francis ford coppola direct a romantic comedy\n",
            "4515\n",
            "  did francis ford coppola direct any highly rated western films\n",
            "4516\n",
            "  did francis ford coppola ever direct a pg rated avant garde in the 1960 s\n",
            "4517\n",
            "  has francis ford coppola directed any award winning documentary films\n",
            "5046\n",
            "  has francis ford coppola directed any teen movies lately\n",
            "5047\n",
            "  has francis ford coppola directed any thriller films\n",
            "5048\n"
          ]
        }
      ]
    },
    {
      "cell_type": "code",
      "metadata": {
        "colab": {
          "base_uri": "https://localhost:8080/"
        },
        "id": "VkSXNpDyrPf4",
        "outputId": "6b240c1c-d50b-4715-91d0-963014313ea2"
      },
      "source": [
        "k_means('/content/sample_data/engtest.csv', 130, 61)    #Sentences having label = 61 are all talking about movie trailers"
      ],
      "execution_count": null,
      "outputs": [
        {
          "output_type": "stream",
          "name": "stdout",
          "text": [
            "  was there a trailer for bowling for columbine\n",
            "153\n",
            "  show me the latest trailer for the avengers\n",
            "211\n",
            "  show me the trailer for rage\n",
            "230\n",
            "  find a trailer for space 2010\n",
            "291\n",
            "  where can i find a full length trailer for dark shadows\n",
            "338\n",
            "  play a trailer for erin brockovich\n",
            "349\n",
            "  show me a trailer for an alec guiness flick\n",
            "385\n",
            "  show me the trailer for the ryan gosling movie\n",
            "399\n",
            "  is the trailer for the dark knight rises out on the internet\n",
            "467\n",
            "  play a trailer for teen wolf\n",
            "500\n",
            "  what movie had the earth explode in the trailer\n",
            "508\n",
            "  where can i see the trailer for the new 2012 avengers movie\n",
            "514\n",
            "  run a trailer for an audry murphy show\n",
            "524\n",
            "  run a trailer for excalibur\n",
            "526\n",
            "  run a trailer for journey back to oz\n",
            "626\n",
            "  find a trailer for chariots of fire\n",
            "957\n",
            "  is there a trailer out for advengers yet\n",
            "963\n",
            "  play a trailer from the others\n",
            "1008\n",
            "  can u please show me the trailer of kiss me kate\n",
            "2396\n",
            "  can i see the trailer for kiss me kate\n",
            "2397\n",
            "  play the trailer\n",
            "2433\n",
            "  play the trailer\n",
            "2434\n",
            "  play trailer of on stranger tides\n",
            "2435\n",
            "  play the trailer of dark of the moon\n",
            "2436\n",
            "  play trailer dark of the moon\n",
            "2437\n",
            "  play the trailer dark of the moon\n",
            "2438\n"
          ]
        }
      ]
    },
    {
      "cell_type": "code",
      "metadata": {
        "id": "RXMJFbSFRWFJ",
        "colab": {
          "base_uri": "https://localhost:8080/"
        },
        "outputId": "ffda0489-40f2-429d-9358-a63fdabf3b6c"
      },
      "source": [
        "transformer_clustering('/content/sample_data/engtrain.csv', 170, 33)    #Sentences having label = 33 are all talking about cartoons and aniamtion in movies "
      ],
      "execution_count": null,
      "outputs": [
        {
          "output_type": "stream",
          "name": "stdout",
          "text": [
            "  find me 3d animated movies\n",
            "221\n",
            "  what animated fish says keep swimming all the time\n",
            "368\n",
            "  id like that r rated animated movie from last year\n",
            "594\n",
            "  what animated pg movies were released in 2010\n",
            "867\n",
            "  which cartoon film first won an oscars\n",
            "1293\n",
            "  name a pixars film that features a robot\n",
            "1310\n",
            "  are any r rated movies animated\n",
            "1715\n",
            "  what is the pixar movie about a flying house\n",
            "1845\n",
            "  when was the first pixar movie released\n",
            "1947\n",
            "  name the first cartoon film to won an oscars for best animated feature\n",
            "1985\n",
            "  find me a rate r animation movie\n",
            "2133\n",
            "  whats a comedy that uses both live action and animation\n",
            "2150\n",
            "  find me an animated movie from 1995\n",
            "2209\n",
            "  are there any r rated movies that are animated\n",
            "2459\n",
            "  was toy soldiers an animated movie\n",
            "2576\n",
            "  are there any animated movies with rabbits from the 2010s\n",
            "2923\n",
            "  find me animated movies that are rated r\n",
            "2926\n",
            "  what g rated movies are not animated\n",
            "3008\n",
            "  do any cartoons have good reviews\n",
            "3010\n",
            "  show me an animated movie about a lizard\n",
            "3161\n",
            "  find an r rated animated comedy\n",
            "3237\n",
            "  are there any r rated animation movies\n",
            "3285\n",
            "  are there any animation movies from japan that won the oscar\n",
            "3381\n",
            "  show me any animated movies with a g rating on right now\n",
            "3410\n",
            "  were there any g rated animates films before 1995\n",
            "3462\n",
            "  what is the movie title of 2004 animated film about a family of superheroes who are forced to hide their powers\n",
            "3837\n",
            "  how long is an average animated movie\n",
            "3844\n",
            "  what are some r rated animated movies\n",
            "3868\n",
            "  show me g rated animated films from 1995 and after\n",
            "3877\n",
            "  are there any r rated animated movies\n",
            "4035\n",
            "  is there a short animated farce movie\n",
            "4085\n",
            "  a animated movie made in 1980 that has wildlife in it and was rated pg\n",
            "4156\n",
            "  an animation film directed by david m matthews in the past seven years that has been rated pg\n",
            "4203\n",
            "  are there any animated r rated movies\n",
            "4258\n",
            "  are there any good animation films out there\n",
            "4283\n",
            "  do you have an animation movie\n",
            "4753\n",
            "  do you have the four star movie from the 1990 s featuring animation\n",
            "4806\n",
            "  do you have the movie dantes inferno animated\n",
            "4809\n",
            "  find a 1950 s animation film\n",
            "4889\n",
            "  have the coen brothers directed any good r rated animated films lately\n",
            "5185\n",
            "  have there been any ok animated films about an abandoned house\n",
            "5186\n",
            "  i want to see a good g rated animation that came out this year\n",
            "5363\n",
            "  id like to find an animated escape movie directed by jon gunn\n",
            "5457\n",
            "  im looking for r rated animated films featuring balloons that were released within the past ten decades and received average reviews\n",
            "5496\n",
            "  im looking for a movie with animation\n",
            "5528\n"
          ]
        }
      ]
    },
    {
      "cell_type": "code",
      "metadata": {
        "colab": {
          "base_uri": "https://localhost:8080/"
        },
        "id": "twBUYk5NMWn_",
        "outputId": "353e7a7f-0513-4cc6-eec9-b9b647e6c7da"
      },
      "source": [
        "transformer_clustering('/content/sample_data/engtest.csv', 130, 103)   #Sentences having label = 103 are talking about wedding movies"
      ],
      "execution_count": null,
      "outputs": [
        {
          "output_type": "stream",
          "name": "stdout",
          "text": [
            "  who directed princess bride\n",
            "93\n",
            "  who directed the film the lorax\n",
            "216\n",
            "  is princess bride a good film for children\n",
            "264\n",
            "  how many oscars was bridesmaids nominated for\n",
            "352\n",
            "  the director april maiya directed many romantic wedding movies in the 2000 s\n",
            "1776\n",
            "  who starred in bridesmaids\n",
            "2321\n",
            "  who starred in dance of the dragon\n",
            "2322\n"
          ]
        }
      ]
    },
    {
      "cell_type": "code",
      "metadata": {
        "id": "vWXtECdkMqMC"
      },
      "source": [
        ""
      ],
      "execution_count": null,
      "outputs": []
    }
  ]
}